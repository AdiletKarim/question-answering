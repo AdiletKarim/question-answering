{
 "cells": [
  {
   "cell_type": "code",
   "execution_count": 1,
   "id": "bb0260bc",
   "metadata": {},
   "outputs": [],
   "source": [
    "import os, re\n",
    "import datetime, json\n",
    "\n",
    "import numpy as np\n",
    "import pandas as pd"
   ]
  },
  {
   "cell_type": "code",
   "execution_count": 2,
   "id": "7abbc66c",
   "metadata": {
    "scrolled": true
   },
   "outputs": [],
   "source": [
    "# dicts = []\n",
    "\n",
    "# idx = 0\n",
    "# while idx != 10:    \n",
    "#     row = dict()\n",
    "#     row['qas'] = []\n",
    "    \n",
    "#     context = input(\"Enter the context: \")\n",
    "#     context = context.replace(\"  \", \" \")\n",
    "#     context = context.replace(\"\u0002\", \"\")\n",
    "    \n",
    "#     row['context'] = context\n",
    "    \n",
    "#     is_continue = True \n",
    "#     while is_continue: \n",
    "#         print(f\"The context {context} | {idx}\")\n",
    "#         question = input(\"Question \")\n",
    "#         answer = input(\"Answer \")\n",
    "        \n",
    "#         match = re.search(re.escape(answer), context)\n",
    "        \n",
    "#         qa = dict()        \n",
    "#         qa['question'] = question\n",
    "#         qa['answer'] = answer\n",
    "        \n",
    "#         qa['start_position'] = match.start()\n",
    "#         qa['end_position'] = match.start() + len(answer)\n",
    "        \n",
    "#         row['qas'].append(qa)\n",
    "        \n",
    "#         try:\n",
    "#             is_continue = int(input(\"Do you have other questons? \"))\n",
    "#         except Exception:\n",
    "#             break\n",
    "#     dicts.append(row)\n",
    "#     idx += 1  \n",
    "\n",
    "\n",
    "# import datetime\n",
    "# json_file_path = \"data/\" + datetime.datetime.now().strftime(\"%Y-%m-%d-%H-%M\") + \".json\"\n",
    "        \n",
    "# os.makedirs(\"data\", exist_ok=True)\n",
    "\n",
    "\n",
    "# with open(json_file_path, 'w', encoding='utf-8') as file:\n",
    "#     json.dump(dicts, file, ensure_ascii=False, indent=2)\n",
    "\n",
    "# print(f\"Added {len(dicts)} dictionaries to {json_file_path}\")"
   ]
  },
  {
   "cell_type": "code",
   "execution_count": 6,
   "id": "8ba6bd72",
   "metadata": {},
   "outputs": [],
   "source": [
    "import json, os\n",
    "import pandas as pd\n",
    "\n",
    "# Sample JSON objects\n",
    "names = os.listdir(\"data/\")"
   ]
  },
  {
   "cell_type": "code",
   "execution_count": 53,
   "id": "f3893101",
   "metadata": {},
   "outputs": [],
   "source": [
    "import json\n",
    "import os\n",
    "import pandas as pd\n",
    "\n",
    "# Assuming your JSON files are in a folder named 'data'\n",
    "json_folder = \"C:/Users/User/Desktop/bert/data/\""
   ]
  },
  {
   "cell_type": "code",
   "execution_count": 54,
   "id": "ac2cd225",
   "metadata": {},
   "outputs": [
    {
     "data": {
      "text/plain": [
       "'C:/Users/User/Desktop/bert/data/'"
      ]
     },
     "execution_count": 54,
     "metadata": {},
     "output_type": "execute_result"
    }
   ],
   "source": [
    "json_folder"
   ]
  },
  {
   "cell_type": "code",
   "execution_count": 100,
   "id": "3b02e80a",
   "metadata": {},
   "outputs": [],
   "source": [
    "# Initialize empty lists to store data\n",
    "context,question, answer, start_position, end_position = [], [], [], [],[]"
   ]
  },
  {
   "cell_type": "code",
   "execution_count": 95,
   "id": "cc471326",
   "metadata": {},
   "outputs": [],
   "source": [
    "names = os.listdir(json_folder)"
   ]
  },
  {
   "cell_type": "code",
   "execution_count": 41,
   "id": "def81028",
   "metadata": {},
   "outputs": [
    {
     "data": {
      "text/plain": [
       "0"
      ]
     },
     "execution_count": 41,
     "metadata": {},
     "output_type": "execute_result"
    }
   ],
   "source": [
    "# names"
   ]
  },
  {
   "cell_type": "code",
   "execution_count": 40,
   "id": "674bdff0",
   "metadata": {},
   "outputs": [],
   "source": [
    "# names = 0"
   ]
  },
  {
   "cell_type": "code",
   "execution_count": 101,
   "id": "66d1003a",
   "metadata": {},
   "outputs": [
    {
     "name": "stdout",
     "output_type": "stream",
     "text": [
      "Error decoding JSON in file: 2023-12-11-14-32.json\n",
      "Error decoding JSON in file: 2023-12-11-14-33.json\n"
     ]
    }
   ],
   "source": [
    "for name in names:\n",
    "    with open(\"data/\" + name, 'r', encoding='utf-8') as json_file:\n",
    "        try:\n",
    "            json_data = json.load(json_file)\n",
    "            for row in json_data:\n",
    "                qas = row.get('qas', [])  # Add a default empty list if 'qas' is missing\n",
    "                for qa in qas:\n",
    "                    question.append(qa.get('question', ''))\n",
    "                    answer.append(qa.get('answer', ''))\n",
    "                    start_position.append(qa.get('start_position', -1))\n",
    "                    end_position.append(qa.get('end_position', -1))\n",
    "                    context.append(row.get('context', ''))\n",
    "        except json.JSONDecodeError:\n",
    "            print(f\"Error decoding JSON in file: {name}\")\n",
    "            continue  # Skip this file and proceed with the next one\n"
   ]
  },
  {
   "cell_type": "code",
   "execution_count": 45,
   "id": "fc8fc2d3",
   "metadata": {},
   "outputs": [],
   "source": [
    "# names"
   ]
  },
  {
   "cell_type": "code",
   "execution_count": 103,
   "id": "be07fcb9",
   "metadata": {
    "scrolled": true
   },
   "outputs": [
    {
     "data": {
      "text/plain": [
       "690"
      ]
     },
     "execution_count": 103,
     "metadata": {},
     "output_type": "execute_result"
    }
   ],
   "source": [
    "len(context)"
   ]
  },
  {
   "cell_type": "code",
   "execution_count": 104,
   "id": "d6ed0742",
   "metadata": {},
   "outputs": [
    {
     "data": {
      "text/plain": [
       "690"
      ]
     },
     "execution_count": 104,
     "metadata": {},
     "output_type": "execute_result"
    }
   ],
   "source": [
    "len(question)"
   ]
  },
  {
   "cell_type": "code",
   "execution_count": 105,
   "id": "0f82d970",
   "metadata": {},
   "outputs": [],
   "source": [
    "df3 = pd.DataFrame({\n",
    "    \"context\": context,\n",
    "    \"question\": question,\n",
    "    \"answer\": answer,\n",
    "    \"start_position\": start_position,\n",
    "    \"end_position\": end_position\n",
    "})\n",
    "\n",
    "csv_filename = \"output.csv\"\n",
    "df3.to_csv(csv_filename, index=False)"
   ]
  },
  {
   "cell_type": "code",
   "execution_count": 75,
   "id": "62b96f5f",
   "metadata": {},
   "outputs": [],
   "source": [
    "del df3"
   ]
  },
  {
   "cell_type": "code",
   "execution_count": 106,
   "id": "09c681f3",
   "metadata": {},
   "outputs": [
    {
     "data": {
      "text/html": [
       "<div>\n",
       "<style scoped>\n",
       "    .dataframe tbody tr th:only-of-type {\n",
       "        vertical-align: middle;\n",
       "    }\n",
       "\n",
       "    .dataframe tbody tr th {\n",
       "        vertical-align: top;\n",
       "    }\n",
       "\n",
       "    .dataframe thead th {\n",
       "        text-align: right;\n",
       "    }\n",
       "</style>\n",
       "<table border=\"1\" class=\"dataframe\">\n",
       "  <thead>\n",
       "    <tr style=\"text-align: right;\">\n",
       "      <th></th>\n",
       "      <th>context</th>\n",
       "      <th>question</th>\n",
       "      <th>answer</th>\n",
       "      <th>start_position</th>\n",
       "      <th>end_position</th>\n",
       "    </tr>\n",
       "  </thead>\n",
       "  <tbody>\n",
       "    <tr>\n",
       "      <th>0</th>\n",
       "      <td>1738 жылы тамыз айында Орынбор комиссиясының б...</td>\n",
       "      <td>қай жылы В.Н.Татищев Орынборда қазақ сұлтандар...</td>\n",
       "      <td>1738 жылы</td>\n",
       "      <td>0</td>\n",
       "      <td>9</td>\n",
       "    </tr>\n",
       "    <tr>\n",
       "      <th>1</th>\n",
       "      <td>1738 жылы тамыз айында Орынбор комиссиясының б...</td>\n",
       "      <td>қай айы В.Н.Татищев Орынборда қазақ сұлтандары...</td>\n",
       "      <td>тамыз</td>\n",
       "      <td>10</td>\n",
       "      <td>15</td>\n",
       "    </tr>\n",
       "    <tr>\n",
       "      <th>2</th>\n",
       "      <td>1738 жылы тамыз айында Орынбор комиссиясының б...</td>\n",
       "      <td>қай жылы және айы В.Н.Татищев Орынборда қазақ ...</td>\n",
       "      <td>1738 жылы тамыз айы</td>\n",
       "      <td>0</td>\n",
       "      <td>19</td>\n",
       "    </tr>\n",
       "    <tr>\n",
       "      <th>3</th>\n",
       "      <td>1738 жылы тамыз айында Орынбор комиссиясының б...</td>\n",
       "      <td>Орынбор комиссиясының басшысы кім болды?</td>\n",
       "      <td>В.Н.Татищев</td>\n",
       "      <td>113</td>\n",
       "      <td>124</td>\n",
       "    </tr>\n",
       "    <tr>\n",
       "      <th>4</th>\n",
       "      <td>1738 жылы тамыз айында Орынбор комиссиясының б...</td>\n",
       "      <td>Көрнекті тарихшы кім?</td>\n",
       "      <td>В.Н.Татищев</td>\n",
       "      <td>113</td>\n",
       "      <td>124</td>\n",
       "    </tr>\n",
       "    <tr>\n",
       "      <th>...</th>\n",
       "      <td>...</td>\n",
       "      <td>...</td>\n",
       "      <td>...</td>\n",
       "      <td>...</td>\n",
       "      <td>...</td>\n",
       "    </tr>\n",
       "    <tr>\n",
       "      <th>685</th>\n",
       "      <td>1710 — Жоңғар шапқыншылығына қарсы үш жүздiң б...</td>\n",
       "      <td>1710 жылы не болды?</td>\n",
       "      <td>Жоңғар шапқыншылығына қарсы үш жүздiң басын бi...</td>\n",
       "      <td>7</td>\n",
       "      <td>75</td>\n",
       "    </tr>\n",
       "    <tr>\n",
       "      <th>686</th>\n",
       "      <td>1710 — Жоңғар шапқыншылығына қарсы үш жүздiң б...</td>\n",
       "      <td>1716 жылы не болды?</td>\n",
       "      <td>Жәмiш (Ямышевск), Омбы бекiнiстерiнiң салынуы.</td>\n",
       "      <td>84</td>\n",
       "      <td>130</td>\n",
       "    </tr>\n",
       "    <tr>\n",
       "      <th>687</th>\n",
       "      <td>1710 — Жоңғар шапқыншылығына қарсы үш жүздiң б...</td>\n",
       "      <td>1718 жылы не болды?</td>\n",
       "      <td>Семей бекiнiсiнiң салынуы, Аякөз маңында қалм...</td>\n",
       "      <td>137</td>\n",
       "      <td>197</td>\n",
       "    </tr>\n",
       "    <tr>\n",
       "      <th>688</th>\n",
       "      <td>1710 — Жоңғар шапқыншылығына қарсы үш жүздiң б...</td>\n",
       "      <td>1723 — 1727 жылы не болды?</td>\n",
       "      <td>“Ақтабан шұбырынды, Алқакөл сұлама”</td>\n",
       "      <td>213</td>\n",
       "      <td>248</td>\n",
       "    </tr>\n",
       "    <tr>\n",
       "      <th>689</th>\n",
       "      <td>1710 — Жоңғар шапқыншылығына қарсы үш жүздiң б...</td>\n",
       "      <td>1726 жылы не болды?</td>\n",
       "      <td>Торғай бойында қазақ жасақтарының жоңғарларды ...</td>\n",
       "      <td>257</td>\n",
       "      <td>313</td>\n",
       "    </tr>\n",
       "  </tbody>\n",
       "</table>\n",
       "<p>690 rows × 5 columns</p>\n",
       "</div>"
      ],
      "text/plain": [
       "                                               context  \\\n",
       "0    1738 жылы тамыз айында Орынбор комиссиясының б...   \n",
       "1    1738 жылы тамыз айында Орынбор комиссиясының б...   \n",
       "2    1738 жылы тамыз айында Орынбор комиссиясының б...   \n",
       "3    1738 жылы тамыз айында Орынбор комиссиясының б...   \n",
       "4    1738 жылы тамыз айында Орынбор комиссиясының б...   \n",
       "..                                                 ...   \n",
       "685  1710 — Жоңғар шапқыншылығына қарсы үш жүздiң б...   \n",
       "686  1710 — Жоңғар шапқыншылығына қарсы үш жүздiң б...   \n",
       "687  1710 — Жоңғар шапқыншылығына қарсы үш жүздiң б...   \n",
       "688  1710 — Жоңғар шапқыншылығына қарсы үш жүздiң б...   \n",
       "689  1710 — Жоңғар шапқыншылығына қарсы үш жүздiң б...   \n",
       "\n",
       "                                              question  \\\n",
       "0    қай жылы В.Н.Татищев Орынборда қазақ сұлтандар...   \n",
       "1    қай айы В.Н.Татищев Орынборда қазақ сұлтандары...   \n",
       "2    қай жылы және айы В.Н.Татищев Орынборда қазақ ...   \n",
       "3             Орынбор комиссиясының басшысы кім болды?   \n",
       "4                                Көрнекті тарихшы кім?   \n",
       "..                                                 ...   \n",
       "685                                1710 жылы не болды?   \n",
       "686                                1716 жылы не болды?   \n",
       "687                                1718 жылы не болды?   \n",
       "688                         1723 — 1727 жылы не болды?   \n",
       "689                                1726 жылы не болды?   \n",
       "\n",
       "                                                answer  start_position  \\\n",
       "0                                            1738 жылы               0   \n",
       "1                                                тамыз              10   \n",
       "2                                  1738 жылы тамыз айы               0   \n",
       "3                                          В.Н.Татищев             113   \n",
       "4                                          В.Н.Татищев             113   \n",
       "..                                                 ...             ...   \n",
       "685  Жоңғар шапқыншылығына қарсы үш жүздiң басын бi...               7   \n",
       "686     Жәмiш (Ямышевск), Омбы бекiнiстерiнiң салынуы.              84   \n",
       "687   Семей бекiнiсiнiң салынуы, Аякөз маңында қалм...             137   \n",
       "688                “Ақтабан шұбырынды, Алқакөл сұлама”             213   \n",
       "689  Торғай бойында қазақ жасақтарының жоңғарларды ...             257   \n",
       "\n",
       "     end_position  \n",
       "0               9  \n",
       "1              15  \n",
       "2              19  \n",
       "3             124  \n",
       "4             124  \n",
       "..            ...  \n",
       "685            75  \n",
       "686           130  \n",
       "687           197  \n",
       "688           248  \n",
       "689           313  \n",
       "\n",
       "[690 rows x 5 columns]"
      ]
     },
     "execution_count": 106,
     "metadata": {},
     "output_type": "execute_result"
    }
   ],
   "source": [
    "df3"
   ]
  },
  {
   "cell_type": "code",
   "execution_count": 107,
   "id": "fa992708",
   "metadata": {
    "scrolled": true
   },
   "outputs": [],
   "source": [
    "file1 = \"adilet_annot.csv\"\n",
    "file2 = \"output.csv\"\n",
    "\n",
    "df1 = pd.read_csv(file1)\n",
    "df2 = pd.read_csv(file2)\n"
   ]
  },
  {
   "cell_type": "code",
   "execution_count": 108,
   "id": "cab16f65",
   "metadata": {},
   "outputs": [],
   "source": [
    "merged_df = pd.concat([df1, df2], ignore_index=True)\n"
   ]
  },
  {
   "cell_type": "code",
   "execution_count": 109,
   "id": "1179a859",
   "metadata": {
    "scrolled": true
   },
   "outputs": [
    {
     "data": {
      "text/html": [
       "<div>\n",
       "<style scoped>\n",
       "    .dataframe tbody tr th:only-of-type {\n",
       "        vertical-align: middle;\n",
       "    }\n",
       "\n",
       "    .dataframe tbody tr th {\n",
       "        vertical-align: top;\n",
       "    }\n",
       "\n",
       "    .dataframe thead th {\n",
       "        text-align: right;\n",
       "    }\n",
       "</style>\n",
       "<table border=\"1\" class=\"dataframe\">\n",
       "  <thead>\n",
       "    <tr style=\"text-align: right;\">\n",
       "      <th></th>\n",
       "      <th>context</th>\n",
       "      <th>question</th>\n",
       "      <th>answer</th>\n",
       "      <th>start_position</th>\n",
       "      <th>end_position</th>\n",
       "    </tr>\n",
       "  </thead>\n",
       "  <tbody>\n",
       "    <tr>\n",
       "      <th>0</th>\n",
       "      <td>XVII ғасырдың аяғы мен XVIII ғасырдың басында ...</td>\n",
       "      <td>Тәуке хан бiрiктiрген Қазақ хандығы Орталық Аз...</td>\n",
       "      <td>белдi орын алды</td>\n",
       "      <td>124</td>\n",
       "      <td>139</td>\n",
       "    </tr>\n",
       "    <tr>\n",
       "      <th>1</th>\n",
       "      <td>XVII ғасырдың аяғы мен XVIII ғасырдың басында ...</td>\n",
       "      <td>Қазақ хандығынң рулары Тәуке хан тұсында бірін...</td>\n",
       "      <td>Жайылымдық жер үшiн қырқысқан</td>\n",
       "      <td>141</td>\n",
       "      <td>170</td>\n",
       "    </tr>\n",
       "    <tr>\n",
       "      <th>2</th>\n",
       "      <td>Алайда Тәукенiң өлiмiнен кейiн қазақ жерi тағы...</td>\n",
       "      <td>Тәукенің өлімінен кейін қазақ жеріне не болды?</td>\n",
       "      <td>қазақ жерi тағы ыдырай бастады</td>\n",
       "      <td>31</td>\n",
       "      <td>61</td>\n",
       "    </tr>\n",
       "    <tr>\n",
       "      <th>3</th>\n",
       "      <td>Алайда Тәукенiң өлiмiнен кейiн қазақ жерi тағы...</td>\n",
       "      <td>Тәукенің мирасқоры кім?</td>\n",
       "      <td>Қайып</td>\n",
       "      <td>82</td>\n",
       "      <td>87</td>\n",
       "    </tr>\n",
       "    <tr>\n",
       "      <th>4</th>\n",
       "      <td>Алайда Тәукенiң өлiмiнен кейiн қазақ жерi тағы...</td>\n",
       "      <td>Қайып не істей алмады?</td>\n",
       "      <td>елдiң басын құрай алмады</td>\n",
       "      <td>88</td>\n",
       "      <td>112</td>\n",
       "    </tr>\n",
       "    <tr>\n",
       "      <th>...</th>\n",
       "      <td>...</td>\n",
       "      <td>...</td>\n",
       "      <td>...</td>\n",
       "      <td>...</td>\n",
       "      <td>...</td>\n",
       "    </tr>\n",
       "    <tr>\n",
       "      <th>1501</th>\n",
       "      <td>1710 — Жоңғар шапқыншылығына қарсы үш жүздiң б...</td>\n",
       "      <td>1710 жылы не болды?</td>\n",
       "      <td>Жоңғар шапқыншылығына қарсы үш жүздiң басын бi...</td>\n",
       "      <td>7</td>\n",
       "      <td>75</td>\n",
       "    </tr>\n",
       "    <tr>\n",
       "      <th>1502</th>\n",
       "      <td>1710 — Жоңғар шапқыншылығына қарсы үш жүздiң б...</td>\n",
       "      <td>1716 жылы не болды?</td>\n",
       "      <td>Жәмiш (Ямышевск), Омбы бекiнiстерiнiң салынуы.</td>\n",
       "      <td>84</td>\n",
       "      <td>130</td>\n",
       "    </tr>\n",
       "    <tr>\n",
       "      <th>1503</th>\n",
       "      <td>1710 — Жоңғар шапқыншылығына қарсы үш жүздiң б...</td>\n",
       "      <td>1718 жылы не болды?</td>\n",
       "      <td>Семей бекiнiсiнiң салынуы, Аякөз маңында қалм...</td>\n",
       "      <td>137</td>\n",
       "      <td>197</td>\n",
       "    </tr>\n",
       "    <tr>\n",
       "      <th>1504</th>\n",
       "      <td>1710 — Жоңғар шапқыншылығына қарсы үш жүздiң б...</td>\n",
       "      <td>1723 — 1727 жылы не болды?</td>\n",
       "      <td>“Ақтабан шұбырынды, Алқакөл сұлама”</td>\n",
       "      <td>213</td>\n",
       "      <td>248</td>\n",
       "    </tr>\n",
       "    <tr>\n",
       "      <th>1505</th>\n",
       "      <td>1710 — Жоңғар шапқыншылығына қарсы үш жүздiң б...</td>\n",
       "      <td>1726 жылы не болды?</td>\n",
       "      <td>Торғай бойында қазақ жасақтарының жоңғарларды ...</td>\n",
       "      <td>257</td>\n",
       "      <td>313</td>\n",
       "    </tr>\n",
       "  </tbody>\n",
       "</table>\n",
       "<p>1506 rows × 5 columns</p>\n",
       "</div>"
      ],
      "text/plain": [
       "                                                context  \\\n",
       "0     XVII ғасырдың аяғы мен XVIII ғасырдың басында ...   \n",
       "1     XVII ғасырдың аяғы мен XVIII ғасырдың басында ...   \n",
       "2     Алайда Тәукенiң өлiмiнен кейiн қазақ жерi тағы...   \n",
       "3     Алайда Тәукенiң өлiмiнен кейiн қазақ жерi тағы...   \n",
       "4     Алайда Тәукенiң өлiмiнен кейiн қазақ жерi тағы...   \n",
       "...                                                 ...   \n",
       "1501  1710 — Жоңғар шапқыншылығына қарсы үш жүздiң б...   \n",
       "1502  1710 — Жоңғар шапқыншылығына қарсы үш жүздiң б...   \n",
       "1503  1710 — Жоңғар шапқыншылығына қарсы үш жүздiң б...   \n",
       "1504  1710 — Жоңғар шапқыншылығына қарсы үш жүздiң б...   \n",
       "1505  1710 — Жоңғар шапқыншылығына қарсы үш жүздiң б...   \n",
       "\n",
       "                                               question  \\\n",
       "0     Тәуке хан бiрiктiрген Қазақ хандығы Орталық Аз...   \n",
       "1     Қазақ хандығынң рулары Тәуке хан тұсында бірін...   \n",
       "2        Тәукенің өлімінен кейін қазақ жеріне не болды?   \n",
       "3                               Тәукенің мирасқоры кім?   \n",
       "4                                Қайып не істей алмады?   \n",
       "...                                                 ...   \n",
       "1501                                1710 жылы не болды?   \n",
       "1502                                1716 жылы не болды?   \n",
       "1503                                1718 жылы не болды?   \n",
       "1504                         1723 — 1727 жылы не болды?   \n",
       "1505                                1726 жылы не болды?   \n",
       "\n",
       "                                                 answer  start_position  \\\n",
       "0                                       белдi орын алды             124   \n",
       "1                         Жайылымдық жер үшiн қырқысқан             141   \n",
       "2                        қазақ жерi тағы ыдырай бастады              31   \n",
       "3                                                 Қайып              82   \n",
       "4                              елдiң басын құрай алмады              88   \n",
       "...                                                 ...             ...   \n",
       "1501  Жоңғар шапқыншылығына қарсы үш жүздiң басын бi...               7   \n",
       "1502     Жәмiш (Ямышевск), Омбы бекiнiстерiнiң салынуы.              84   \n",
       "1503   Семей бекiнiсiнiң салынуы, Аякөз маңында қалм...             137   \n",
       "1504                “Ақтабан шұбырынды, Алқакөл сұлама”             213   \n",
       "1505  Торғай бойында қазақ жасақтарының жоңғарларды ...             257   \n",
       "\n",
       "      end_position  \n",
       "0              139  \n",
       "1              170  \n",
       "2               61  \n",
       "3               87  \n",
       "4              112  \n",
       "...            ...  \n",
       "1501            75  \n",
       "1502           130  \n",
       "1503           197  \n",
       "1504           248  \n",
       "1505           313  \n",
       "\n",
       "[1506 rows x 5 columns]"
      ]
     },
     "execution_count": 109,
     "metadata": {},
     "output_type": "execute_result"
    }
   ],
   "source": [
    "merged_df"
   ]
  },
  {
   "cell_type": "code",
   "execution_count": 110,
   "id": "3dc7569b",
   "metadata": {},
   "outputs": [],
   "source": [
    "merged_df.to_csv(\"annotation.csv\", index=False)"
   ]
  }
 ],
 "metadata": {
  "kernelspec": {
   "display_name": "Python 3",
   "language": "python",
   "name": "python3"
  },
  "language_info": {
   "codemirror_mode": {
    "name": "ipython",
    "version": 3
   },
   "file_extension": ".py",
   "mimetype": "text/x-python",
   "name": "python",
   "nbconvert_exporter": "python",
   "pygments_lexer": "ipython3",
   "version": "3.8.8"
  }
 },
 "nbformat": 4,
 "nbformat_minor": 5
}
